{
 "cells": [
  {
   "cell_type": "markdown",
   "metadata": {},
   "source": [
    "# PCA algorithm implemented from scratch with pure Numpy and Python"
   ]
  },
  {
   "cell_type": "markdown",
   "metadata": {},
   "source": [
    "\n",
    "In this notebook, I implement a version of PCA for continuous features from scratch, using only Python and pure Numpy."
   ]
  },
  {
   "cell_type": "code",
   "execution_count": 1,
   "metadata": {},
   "outputs": [],
   "source": [
    "import numpy as np"
   ]
  },
  {
   "cell_type": "markdown",
   "metadata": {},
   "source": [
    "Let's first generate a synthetic dataset so that we can test our algorithm and visually assess if it is working or not."
   ]
  },
  {
   "cell_type": "code",
   "execution_count": 3,
   "metadata": {},
   "outputs": [],
   "source": [
    "mean = [0,1,2]\n",
    "var_cov_matrix = [[1,0.2,0.8],\n",
    "                  [0.2,1,0.4],\n",
    "                  [0.8,0.4,1]]\n",
    "data = np.random.multivariate_normal(mean,var_cov_matrix,1000)"
   ]
  }
 ],
 "metadata": {
  "kernelspec": {
   "display_name": "fromscratch",
   "language": "python",
   "name": "python3"
  },
  "language_info": {
   "codemirror_mode": {
    "name": "ipython",
    "version": 3
   },
   "file_extension": ".py",
   "mimetype": "text/x-python",
   "name": "python",
   "nbconvert_exporter": "python",
   "pygments_lexer": "ipython3",
   "version": "3.12.7"
  }
 },
 "nbformat": 4,
 "nbformat_minor": 2
}
